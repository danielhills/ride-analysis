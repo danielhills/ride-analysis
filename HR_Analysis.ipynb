{
 "cells": [
  {
   "cell_type": "code",
   "execution_count": 127,
   "metadata": {
    "collapsed": false
   },
   "outputs": [],
   "source": [
    "import pandas as pd\n",
    "\n",
    "import datetime as datetime\n",
    "\n",
    "import seaborn as sns\n",
    "sns.set(style='darkgrid')\n",
    "flatui = [\"#9b59b6\", \"#3498db\", \"#95a5a6\", \"#e74c3c\", \"#34495e\", \"#2ecc71\"]\n",
    "sns.set_palette(flatui)\n",
    "%matplotlib inline"
   ]
  },
  {
   "cell_type": "code",
   "execution_count": 152,
   "metadata": {
    "collapsed": false
   },
   "outputs": [],
   "source": [
    "def calculate_zone (hr, max_hr):\n",
    "    if hr > 0.9 * max_hr:\n",
    "        zone = 'Z5'\n",
    "    elif hr > 0.8 * max_hr:\n",
    "        zone = 'Z4'\n",
    "    elif hr > 0.7 * max_hr:\n",
    "        zone = 'Z3'\n",
    "    elif hr > 0.6 * max_hr:\n",
    "        zone = 'Z2'\n",
    "    elif hr > 0.5 * max_hr:\n",
    "        zone = 'Z1'\n",
    "    else:\n",
    "        zone = 'Recovery' \n",
    "    return zone"
   ]
  },
  {
   "cell_type": "code",
   "execution_count": 186,
   "metadata": {
    "collapsed": false
   },
   "outputs": [],
   "source": [
    "def return_coefficient (zone):\n",
    "    coefficient_dict = {'Recovery': 0,\n",
    "                        'Z1': 12,\n",
    "                        'Z2': 24,\n",
    "                        'Z3': 45,\n",
    "                        'Z4': 100,\n",
    "                        'Z5': 120}\n",
    "    coefficient = coefficient_dict[zone]\n",
    "    return (coefficient)"
   ]
  },
  {
   "cell_type": "code",
   "execution_count": 210,
   "metadata": {
    "collapsed": false
   },
   "outputs": [],
   "source": [
    "max_hr = 195"
   ]
  },
  {
   "cell_type": "code",
   "execution_count": 211,
   "metadata": {
    "collapsed": false
   },
   "outputs": [],
   "source": [
    "df = pd.read_csv('all_activities.csv')"
   ]
  },
  {
   "cell_type": "code",
   "execution_count": 212,
   "metadata": {
    "collapsed": false
   },
   "outputs": [],
   "source": [
    "df = df[df['HR'] != 'No HR data']\n",
    "df['HR'] = df['HR'].astype(int)\n",
    "\n",
    "df['Time_Stamp'] = pd.to_datetime(df['Time_Stamp'])\n",
    "df['Time_Delta'] = (df['Time_Stamp'] - df['Time_Stamp'].shift()).fillna(1) / datetime.timedelta(seconds = 1)"
   ]
  },
  {
   "cell_type": "code",
   "execution_count": 213,
   "metadata": {
    "collapsed": false
   },
   "outputs": [
    {
     "data": {
      "text/html": [
       "<div>\n",
       "<table border=\"1\" class=\"dataframe\">\n",
       "  <thead>\n",
       "    <tr style=\"text-align: right;\">\n",
       "      <th></th>\n",
       "      <th>Elevation</th>\n",
       "      <th>HR</th>\n",
       "      <th>HR_Zone</th>\n",
       "      <th>Latitude</th>\n",
       "      <th>Longitude</th>\n",
       "      <th>Ride_ID</th>\n",
       "      <th>Time_Stamp</th>\n",
       "      <th>Time_Delta</th>\n",
       "    </tr>\n",
       "  </thead>\n",
       "  <tbody>\n",
       "    <tr>\n",
       "      <th>243289</th>\n",
       "      <td>31.0</td>\n",
       "      <td>160</td>\n",
       "      <td>Z3</td>\n",
       "      <td>52.125831</td>\n",
       "      <td>-2.320548</td>\n",
       "      <td>./Activities/20140913-160521-Ride.gpx</td>\n",
       "      <td>2014-09-13 16:05:21</td>\n",
       "      <td>1.0</td>\n",
       "    </tr>\n",
       "    <tr>\n",
       "      <th>243290</th>\n",
       "      <td>31.0</td>\n",
       "      <td>160</td>\n",
       "      <td>Z3</td>\n",
       "      <td>52.125828</td>\n",
       "      <td>-2.320552</td>\n",
       "      <td>./Activities/20140913-160521-Ride.gpx</td>\n",
       "      <td>2014-09-13 16:05:24</td>\n",
       "      <td>3.0</td>\n",
       "    </tr>\n",
       "    <tr>\n",
       "      <th>243291</th>\n",
       "      <td>33.0</td>\n",
       "      <td>160</td>\n",
       "      <td>Z3</td>\n",
       "      <td>52.125824</td>\n",
       "      <td>-2.320548</td>\n",
       "      <td>./Activities/20140913-160521-Ride.gpx</td>\n",
       "      <td>2014-09-13 16:05:25</td>\n",
       "      <td>1.0</td>\n",
       "    </tr>\n",
       "    <tr>\n",
       "      <th>243292</th>\n",
       "      <td>35.0</td>\n",
       "      <td>160</td>\n",
       "      <td>Z3</td>\n",
       "      <td>52.125815</td>\n",
       "      <td>-2.320525</td>\n",
       "      <td>./Activities/20140913-160521-Ride.gpx</td>\n",
       "      <td>2014-09-13 16:05:26</td>\n",
       "      <td>1.0</td>\n",
       "    </tr>\n",
       "    <tr>\n",
       "      <th>243293</th>\n",
       "      <td>37.0</td>\n",
       "      <td>160</td>\n",
       "      <td>Z3</td>\n",
       "      <td>52.125822</td>\n",
       "      <td>-2.320487</td>\n",
       "      <td>./Activities/20140913-160521-Ride.gpx</td>\n",
       "      <td>2014-09-13 16:05:27</td>\n",
       "      <td>1.0</td>\n",
       "    </tr>\n",
       "    <tr>\n",
       "      <th>243294</th>\n",
       "      <td>38.0</td>\n",
       "      <td>160</td>\n",
       "      <td>Z3</td>\n",
       "      <td>52.125821</td>\n",
       "      <td>-2.320446</td>\n",
       "      <td>./Activities/20140913-160521-Ride.gpx</td>\n",
       "      <td>2014-09-13 16:05:28</td>\n",
       "      <td>1.0</td>\n",
       "    </tr>\n",
       "    <tr>\n",
       "      <th>243295</th>\n",
       "      <td>37.0</td>\n",
       "      <td>160</td>\n",
       "      <td>Z3</td>\n",
       "      <td>52.125773</td>\n",
       "      <td>-2.320292</td>\n",
       "      <td>./Activities/20140913-160521-Ride.gpx</td>\n",
       "      <td>2014-09-13 16:05:31</td>\n",
       "      <td>3.0</td>\n",
       "    </tr>\n",
       "    <tr>\n",
       "      <th>243296</th>\n",
       "      <td>35.0</td>\n",
       "      <td>160</td>\n",
       "      <td>Z3</td>\n",
       "      <td>52.125741</td>\n",
       "      <td>-2.320250</td>\n",
       "      <td>./Activities/20140913-160521-Ride.gpx</td>\n",
       "      <td>2014-09-13 16:05:32</td>\n",
       "      <td>1.0</td>\n",
       "    </tr>\n",
       "    <tr>\n",
       "      <th>243297</th>\n",
       "      <td>33.0</td>\n",
       "      <td>160</td>\n",
       "      <td>Z3</td>\n",
       "      <td>52.125702</td>\n",
       "      <td>-2.320238</td>\n",
       "      <td>./Activities/20140913-160521-Ride.gpx</td>\n",
       "      <td>2014-09-13 16:05:33</td>\n",
       "      <td>1.0</td>\n",
       "    </tr>\n",
       "    <tr>\n",
       "      <th>243298</th>\n",
       "      <td>31.0</td>\n",
       "      <td>160</td>\n",
       "      <td>Z3</td>\n",
       "      <td>52.125669</td>\n",
       "      <td>-2.320231</td>\n",
       "      <td>./Activities/20140913-160521-Ride.gpx</td>\n",
       "      <td>2014-09-13 16:05:34</td>\n",
       "      <td>1.0</td>\n",
       "    </tr>\n",
       "  </tbody>\n",
       "</table>\n",
       "</div>"
      ],
      "text/plain": [
       "        Elevation   HR HR_Zone   Latitude  Longitude  \\\n",
       "243289       31.0  160      Z3  52.125831  -2.320548   \n",
       "243290       31.0  160      Z3  52.125828  -2.320552   \n",
       "243291       33.0  160      Z3  52.125824  -2.320548   \n",
       "243292       35.0  160      Z3  52.125815  -2.320525   \n",
       "243293       37.0  160      Z3  52.125822  -2.320487   \n",
       "243294       38.0  160      Z3  52.125821  -2.320446   \n",
       "243295       37.0  160      Z3  52.125773  -2.320292   \n",
       "243296       35.0  160      Z3  52.125741  -2.320250   \n",
       "243297       33.0  160      Z3  52.125702  -2.320238   \n",
       "243298       31.0  160      Z3  52.125669  -2.320231   \n",
       "\n",
       "                                      Ride_ID          Time_Stamp  Time_Delta  \n",
       "243289  ./Activities/20140913-160521-Ride.gpx 2014-09-13 16:05:21         1.0  \n",
       "243290  ./Activities/20140913-160521-Ride.gpx 2014-09-13 16:05:24         3.0  \n",
       "243291  ./Activities/20140913-160521-Ride.gpx 2014-09-13 16:05:25         1.0  \n",
       "243292  ./Activities/20140913-160521-Ride.gpx 2014-09-13 16:05:26         1.0  \n",
       "243293  ./Activities/20140913-160521-Ride.gpx 2014-09-13 16:05:27         1.0  \n",
       "243294  ./Activities/20140913-160521-Ride.gpx 2014-09-13 16:05:28         1.0  \n",
       "243295  ./Activities/20140913-160521-Ride.gpx 2014-09-13 16:05:31         3.0  \n",
       "243296  ./Activities/20140913-160521-Ride.gpx 2014-09-13 16:05:32         1.0  \n",
       "243297  ./Activities/20140913-160521-Ride.gpx 2014-09-13 16:05:33         1.0  \n",
       "243298  ./Activities/20140913-160521-Ride.gpx 2014-09-13 16:05:34         1.0  "
      ]
     },
     "execution_count": 213,
     "metadata": {},
     "output_type": "execute_result"
    }
   ],
   "source": [
    "df.head(10)"
   ]
  },
  {
   "cell_type": "code",
   "execution_count": 226,
   "metadata": {
    "collapsed": false
   },
   "outputs": [],
   "source": [
    "df['Strava_HR_Zone'] = df['HR'].apply(calculate_zone, max_hr = max_hr)"
   ]
  },
  {
   "cell_type": "code",
   "execution_count": 227,
   "metadata": {
    "collapsed": false
   },
   "outputs": [],
   "source": [
    "df_agg = df.groupby(['Ride_ID', 'Strava_HR_Zone']).sum()[['Time_Delta']].reset_index()"
   ]
  },
  {
   "cell_type": "code",
   "execution_count": 228,
   "metadata": {
    "collapsed": false
   },
   "outputs": [
    {
     "data": {
      "text/html": [
       "<div>\n",
       "<table border=\"1\" class=\"dataframe\">\n",
       "  <thead>\n",
       "    <tr style=\"text-align: right;\">\n",
       "      <th></th>\n",
       "      <th>Ride_ID</th>\n",
       "      <th>Strava_HR_Zone</th>\n",
       "      <th>Time_Delta</th>\n",
       "    </tr>\n",
       "  </thead>\n",
       "  <tbody>\n",
       "    <tr>\n",
       "      <th>0</th>\n",
       "      <td>./Activities/20140913-160521-Ride.gpx</td>\n",
       "      <td>Z4</td>\n",
       "      <td>6489.0</td>\n",
       "    </tr>\n",
       "    <tr>\n",
       "      <th>1</th>\n",
       "      <td>./Activities/20141115-095433-Ride.gpx</td>\n",
       "      <td>Recovery</td>\n",
       "      <td>7215.0</td>\n",
       "    </tr>\n",
       "    <tr>\n",
       "      <th>2</th>\n",
       "      <td>./Activities/20141115-095433-Ride.gpx</td>\n",
       "      <td>Z1</td>\n",
       "      <td>3346.0</td>\n",
       "    </tr>\n",
       "    <tr>\n",
       "      <th>3</th>\n",
       "      <td>./Activities/20141115-095433-Ride.gpx</td>\n",
       "      <td>Z2</td>\n",
       "      <td>6286.0</td>\n",
       "    </tr>\n",
       "    <tr>\n",
       "      <th>4</th>\n",
       "      <td>./Activities/20141115-095433-Ride.gpx</td>\n",
       "      <td>Z3</td>\n",
       "      <td>3303.0</td>\n",
       "    </tr>\n",
       "  </tbody>\n",
       "</table>\n",
       "</div>"
      ],
      "text/plain": [
       "                                 Ride_ID Strava_HR_Zone  Time_Delta\n",
       "0  ./Activities/20140913-160521-Ride.gpx             Z4      6489.0\n",
       "1  ./Activities/20141115-095433-Ride.gpx       Recovery      7215.0\n",
       "2  ./Activities/20141115-095433-Ride.gpx             Z1      3346.0\n",
       "3  ./Activities/20141115-095433-Ride.gpx             Z2      6286.0\n",
       "4  ./Activities/20141115-095433-Ride.gpx             Z3      3303.0"
      ]
     },
     "execution_count": 228,
     "metadata": {},
     "output_type": "execute_result"
    }
   ],
   "source": [
    "df_agg.head()"
   ]
  },
  {
   "cell_type": "markdown",
   "metadata": {},
   "source": [
    "Suffer score = K1 t1 + K2 t2 + K3 t3 + K4 t4 + K5 t5\n",
    "\n",
    "where:\n",
    "t1 = time in hours in zone 1\n",
    "t2 = time in hours in zone 2\n",
    "t3 = time in hours in zone 3\n",
    "t4 = time in hours in zone 4\n",
    "t5 = time in hours in zone 5\n",
    "\n",
    "With coefficient roughly equal to the following (may be off by 1/hr):\n",
    "K1 = 12/hr\n",
    "K2 = 24/hr\n",
    "K3 = 45/hr\n",
    "K4 = 100/hr\n",
    "K5 = 120/hr"
   ]
  },
  {
   "cell_type": "code",
   "execution_count": 229,
   "metadata": {
    "collapsed": false
   },
   "outputs": [],
   "source": [
    "df_agg['Time_Delta'] = df_agg['Time_Delta'] / 3600\n",
    "df_agg['Coefficient'] = df_agg['Strava_HR_Zone'].apply(return_coefficient)"
   ]
  },
  {
   "cell_type": "code",
   "execution_count": 230,
   "metadata": {
    "collapsed": false
   },
   "outputs": [
    {
     "data": {
      "text/html": [
       "<div>\n",
       "<table border=\"1\" class=\"dataframe\">\n",
       "  <thead>\n",
       "    <tr style=\"text-align: right;\">\n",
       "      <th></th>\n",
       "      <th>Ride_ID</th>\n",
       "      <th>Strava_HR_Zone</th>\n",
       "      <th>Time_Delta</th>\n",
       "      <th>Coefficient</th>\n",
       "    </tr>\n",
       "  </thead>\n",
       "  <tbody>\n",
       "    <tr>\n",
       "      <th>0</th>\n",
       "      <td>./Activities/20140913-160521-Ride.gpx</td>\n",
       "      <td>Z4</td>\n",
       "      <td>1.802500</td>\n",
       "      <td>100</td>\n",
       "    </tr>\n",
       "    <tr>\n",
       "      <th>1</th>\n",
       "      <td>./Activities/20141115-095433-Ride.gpx</td>\n",
       "      <td>Recovery</td>\n",
       "      <td>2.004167</td>\n",
       "      <td>0</td>\n",
       "    </tr>\n",
       "    <tr>\n",
       "      <th>2</th>\n",
       "      <td>./Activities/20141115-095433-Ride.gpx</td>\n",
       "      <td>Z1</td>\n",
       "      <td>0.929444</td>\n",
       "      <td>12</td>\n",
       "    </tr>\n",
       "    <tr>\n",
       "      <th>3</th>\n",
       "      <td>./Activities/20141115-095433-Ride.gpx</td>\n",
       "      <td>Z2</td>\n",
       "      <td>1.746111</td>\n",
       "      <td>24</td>\n",
       "    </tr>\n",
       "    <tr>\n",
       "      <th>4</th>\n",
       "      <td>./Activities/20141115-095433-Ride.gpx</td>\n",
       "      <td>Z3</td>\n",
       "      <td>0.917500</td>\n",
       "      <td>45</td>\n",
       "    </tr>\n",
       "  </tbody>\n",
       "</table>\n",
       "</div>"
      ],
      "text/plain": [
       "                                 Ride_ID Strava_HR_Zone  Time_Delta  \\\n",
       "0  ./Activities/20140913-160521-Ride.gpx             Z4    1.802500   \n",
       "1  ./Activities/20141115-095433-Ride.gpx       Recovery    2.004167   \n",
       "2  ./Activities/20141115-095433-Ride.gpx             Z1    0.929444   \n",
       "3  ./Activities/20141115-095433-Ride.gpx             Z2    1.746111   \n",
       "4  ./Activities/20141115-095433-Ride.gpx             Z3    0.917500   \n",
       "\n",
       "   Coefficient  \n",
       "0          100  \n",
       "1            0  \n",
       "2           12  \n",
       "3           24  \n",
       "4           45  "
      ]
     },
     "execution_count": 230,
     "metadata": {},
     "output_type": "execute_result"
    }
   ],
   "source": [
    "df_agg.head()"
   ]
  },
  {
   "cell_type": "code",
   "execution_count": 231,
   "metadata": {
    "collapsed": false
   },
   "outputs": [],
   "source": [
    "df_agg['Component'] = df_agg['Time_Delta'] * df_agg['Coefficient']"
   ]
  },
  {
   "cell_type": "code",
   "execution_count": 232,
   "metadata": {
    "collapsed": false
   },
   "outputs": [],
   "source": [
    "suffer_scores = df_agg.groupby(['Ride_ID']).sum()[['Component']].reset_index()"
   ]
  },
  {
   "cell_type": "code",
   "execution_count": 233,
   "metadata": {
    "collapsed": false
   },
   "outputs": [
    {
     "data": {
      "text/html": [
       "<div>\n",
       "<table border=\"1\" class=\"dataframe\">\n",
       "  <thead>\n",
       "    <tr style=\"text-align: right;\">\n",
       "      <th></th>\n",
       "      <th>Ride_ID</th>\n",
       "      <th>Component</th>\n",
       "    </tr>\n",
       "  </thead>\n",
       "  <tbody>\n",
       "    <tr>\n",
       "      <th>0</th>\n",
       "      <td>./Activities/20140913-160521-Ride.gpx</td>\n",
       "      <td>180.250000</td>\n",
       "    </tr>\n",
       "    <tr>\n",
       "      <th>1</th>\n",
       "      <td>./Activities/20141115-095433-Ride.gpx</td>\n",
       "      <td>150504.841944</td>\n",
       "    </tr>\n",
       "    <tr>\n",
       "      <th>2</th>\n",
       "      <td>./Activities/20141116-095824-Ride.gpx</td>\n",
       "      <td>6.670000</td>\n",
       "    </tr>\n",
       "    <tr>\n",
       "      <th>3</th>\n",
       "      <td>./Activities/20141126-131457-Ride.gpx</td>\n",
       "      <td>10810.710556</td>\n",
       "    </tr>\n",
       "    <tr>\n",
       "      <th>4</th>\n",
       "      <td>./Activities/20141210-130913-Ride.gpx</td>\n",
       "      <td>33674.273611</td>\n",
       "    </tr>\n",
       "    <tr>\n",
       "      <th>5</th>\n",
       "      <td>./Activities/20141217-130856-Ride.gpx</td>\n",
       "      <td>16714.942500</td>\n",
       "    </tr>\n",
       "    <tr>\n",
       "      <th>6</th>\n",
       "      <td>./Activities/20150114-123739-Ride.gpx</td>\n",
       "      <td>30227.300000</td>\n",
       "    </tr>\n",
       "    <tr>\n",
       "      <th>7</th>\n",
       "      <td>./Activities/20150121-131846-Ride.gpx</td>\n",
       "      <td>4079.220000</td>\n",
       "    </tr>\n",
       "    <tr>\n",
       "      <th>8</th>\n",
       "      <td>./Activities/20150128-131436-Ride.gpx</td>\n",
       "      <td>16731.179167</td>\n",
       "    </tr>\n",
       "    <tr>\n",
       "      <th>9</th>\n",
       "      <td>./Activities/20150215-084902-Ride.gpx</td>\n",
       "      <td>19503.260556</td>\n",
       "    </tr>\n",
       "    <tr>\n",
       "      <th>10</th>\n",
       "      <td>./Activities/20151204-155513-Ride.gpx</td>\n",
       "      <td>168297.551111</td>\n",
       "    </tr>\n",
       "    <tr>\n",
       "      <th>11</th>\n",
       "      <td>./Activities/20151205-093415-Ride.gpx</td>\n",
       "      <td>563.516389</td>\n",
       "    </tr>\n",
       "    <tr>\n",
       "      <th>12</th>\n",
       "      <td>./Activities/20151206-083438-Ride.gpx</td>\n",
       "      <td>583.999167</td>\n",
       "    </tr>\n",
       "    <tr>\n",
       "      <th>13</th>\n",
       "      <td>./Activities/20160606-175316-Ride.gpx</td>\n",
       "      <td>57.382500</td>\n",
       "    </tr>\n",
       "    <tr>\n",
       "      <th>14</th>\n",
       "      <td>./Activities/20160703-093649-Ride.gpx</td>\n",
       "      <td>435.994722</td>\n",
       "    </tr>\n",
       "    <tr>\n",
       "      <th>15</th>\n",
       "      <td>./Activities/20160729-160751-Ride.gpx</td>\n",
       "      <td>53.662778</td>\n",
       "    </tr>\n",
       "    <tr>\n",
       "      <th>16</th>\n",
       "      <td>./Activities/20160731-125600-Ride.gpx</td>\n",
       "      <td>172.779444</td>\n",
       "    </tr>\n",
       "    <tr>\n",
       "      <th>17</th>\n",
       "      <td>./Activities/20160804-165430-Ride.gpx</td>\n",
       "      <td>165.247778</td>\n",
       "    </tr>\n",
       "    <tr>\n",
       "      <th>18</th>\n",
       "      <td>./Activities/20160807-101721-Ride.gpx</td>\n",
       "      <td>289.665556</td>\n",
       "    </tr>\n",
       "    <tr>\n",
       "      <th>19</th>\n",
       "      <td>./Activities/20160816-161753-Ride.gpx</td>\n",
       "      <td>61.347778</td>\n",
       "    </tr>\n",
       "    <tr>\n",
       "      <th>20</th>\n",
       "      <td>./Activities/20160816-182610-Ride.gpx</td>\n",
       "      <td>55.352500</td>\n",
       "    </tr>\n",
       "    <tr>\n",
       "      <th>21</th>\n",
       "      <td>./Activities/20160816-190402-Ride.gpx</td>\n",
       "      <td>19.088889</td>\n",
       "    </tr>\n",
       "    <tr>\n",
       "      <th>22</th>\n",
       "      <td>./Activities/20160818-161815-Ride.gpx</td>\n",
       "      <td>195.235556</td>\n",
       "    </tr>\n",
       "    <tr>\n",
       "      <th>23</th>\n",
       "      <td>./Activities/20160821-162853-Ride.gpx</td>\n",
       "      <td>70.318889</td>\n",
       "    </tr>\n",
       "    <tr>\n",
       "      <th>24</th>\n",
       "      <td>./Activities/20160823-161247-Ride.gpx</td>\n",
       "      <td>598.876111</td>\n",
       "    </tr>\n",
       "    <tr>\n",
       "      <th>25</th>\n",
       "      <td>./Activities/20160823-181757-Ride.gpx</td>\n",
       "      <td>58.489722</td>\n",
       "    </tr>\n",
       "    <tr>\n",
       "      <th>26</th>\n",
       "      <td>./Activities/20160823-190429-Ride.gpx</td>\n",
       "      <td>26.298056</td>\n",
       "    </tr>\n",
       "    <tr>\n",
       "      <th>27</th>\n",
       "      <td>./Activities/20160827-083846-Ride.gpx</td>\n",
       "      <td>235.408056</td>\n",
       "    </tr>\n",
       "    <tr>\n",
       "      <th>28</th>\n",
       "      <td>./Activities/20160828-120249-Ride.gpx</td>\n",
       "      <td>106.870000</td>\n",
       "    </tr>\n",
       "    <tr>\n",
       "      <th>29</th>\n",
       "      <td>./Activities/20160829-082902-Ride.gpx</td>\n",
       "      <td>198.320833</td>\n",
       "    </tr>\n",
       "    <tr>\n",
       "      <th>30</th>\n",
       "      <td>./Activities/20160904-155253-Ride.gpx</td>\n",
       "      <td>50.541667</td>\n",
       "    </tr>\n",
       "    <tr>\n",
       "      <th>31</th>\n",
       "      <td>./Activities/20160906-171046-Ride.gpx</td>\n",
       "      <td>136.317500</td>\n",
       "    </tr>\n",
       "    <tr>\n",
       "      <th>32</th>\n",
       "      <td>./Activities/20160908-171825-Ride.gpx</td>\n",
       "      <td>76.051389</td>\n",
       "    </tr>\n",
       "    <tr>\n",
       "      <th>33</th>\n",
       "      <td>./Activities/20160908-183747-Ride.gpx</td>\n",
       "      <td>89.849167</td>\n",
       "    </tr>\n",
       "    <tr>\n",
       "      <th>34</th>\n",
       "      <td>./Activities/20160913-161732-Ride.gpx</td>\n",
       "      <td>753.655278</td>\n",
       "    </tr>\n",
       "    <tr>\n",
       "      <th>35</th>\n",
       "      <td>./Activities/20160915-065544-Ride.gpx</td>\n",
       "      <td>43.491111</td>\n",
       "    </tr>\n",
       "    <tr>\n",
       "      <th>36</th>\n",
       "      <td>./Activities/20160918-074932-Ride.gpx</td>\n",
       "      <td>183.351944</td>\n",
       "    </tr>\n",
       "    <tr>\n",
       "      <th>37</th>\n",
       "      <td>./Activities/20160922-173559-Ride.gpx</td>\n",
       "      <td>1340.538333</td>\n",
       "    </tr>\n",
       "    <tr>\n",
       "      <th>38</th>\n",
       "      <td>./Activities/20160925-131534-Ride.gpx</td>\n",
       "      <td>136.312500</td>\n",
       "    </tr>\n",
       "    <tr>\n",
       "      <th>39</th>\n",
       "      <td>./Activities/20160927-180401-Ride.gpx</td>\n",
       "      <td>19.170556</td>\n",
       "    </tr>\n",
       "    <tr>\n",
       "      <th>40</th>\n",
       "      <td>./Activities/20160928-162627-Ride.gpx</td>\n",
       "      <td>405.358611</td>\n",
       "    </tr>\n",
       "    <tr>\n",
       "      <th>41</th>\n",
       "      <td>./Activities/20161004-173136-Ride.gpx</td>\n",
       "      <td>81.989167</td>\n",
       "    </tr>\n",
       "    <tr>\n",
       "      <th>42</th>\n",
       "      <td>./Activities/20161008-114136-Ride.gpx</td>\n",
       "      <td>68.491944</td>\n",
       "    </tr>\n",
       "    <tr>\n",
       "      <th>43</th>\n",
       "      <td>./Activities/20161011-155739-Ride.gpx</td>\n",
       "      <td>98.530000</td>\n",
       "    </tr>\n",
       "    <tr>\n",
       "      <th>44</th>\n",
       "      <td>./Activities/20161018-162947-Ride.gpx</td>\n",
       "      <td>107.810278</td>\n",
       "    </tr>\n",
       "    <tr>\n",
       "      <th>45</th>\n",
       "      <td>./Activities/20161020-162902-Ride.gpx</td>\n",
       "      <td>760.133889</td>\n",
       "    </tr>\n",
       "    <tr>\n",
       "      <th>46</th>\n",
       "      <td>./Activities/20161027-163132-Ride.gpx</td>\n",
       "      <td>138.672778</td>\n",
       "    </tr>\n",
       "    <tr>\n",
       "      <th>47</th>\n",
       "      <td>./Activities/20161102-180035-Ride.gpx</td>\n",
       "      <td>1845.336389</td>\n",
       "    </tr>\n",
       "    <tr>\n",
       "      <th>48</th>\n",
       "      <td>./Activities/20161123-170002-Ride.gpx</td>\n",
       "      <td>6142.050000</td>\n",
       "    </tr>\n",
       "    <tr>\n",
       "      <th>49</th>\n",
       "      <td>./Activities/20161126-122207-Ride.gpx</td>\n",
       "      <td>216.352500</td>\n",
       "    </tr>\n",
       "    <tr>\n",
       "      <th>50</th>\n",
       "      <td>./Activities/20161206-175215-Ride.gpx</td>\n",
       "      <td>3018.114722</td>\n",
       "    </tr>\n",
       "    <tr>\n",
       "      <th>51</th>\n",
       "      <td>./Activities/20161211-093845-Ride.gpx</td>\n",
       "      <td>1579.246944</td>\n",
       "    </tr>\n",
       "    <tr>\n",
       "      <th>52</th>\n",
       "      <td>./Activities/20170103-130509-Ride.gpx</td>\n",
       "      <td>164.795833</td>\n",
       "    </tr>\n",
       "    <tr>\n",
       "      <th>53</th>\n",
       "      <td>./Activities/20170104-173626-Ride.gpx</td>\n",
       "      <td>333.645278</td>\n",
       "    </tr>\n",
       "    <tr>\n",
       "      <th>54</th>\n",
       "      <td>./Activities/20170107-101003-Ride.gpx</td>\n",
       "      <td>1583.841944</td>\n",
       "    </tr>\n",
       "    <tr>\n",
       "      <th>55</th>\n",
       "      <td>./Activities/20170107-121835-Ride.gpx</td>\n",
       "      <td>25.514444</td>\n",
       "    </tr>\n",
       "    <tr>\n",
       "      <th>56</th>\n",
       "      <td>./Activities/20170107-124626-Ride.gpx</td>\n",
       "      <td>111.920833</td>\n",
       "    </tr>\n",
       "    <tr>\n",
       "      <th>57</th>\n",
       "      <td>./Activities/20170107-152751-Ride.gpx</td>\n",
       "      <td>43.006389</td>\n",
       "    </tr>\n",
       "    <tr>\n",
       "      <th>58</th>\n",
       "      <td>./Activities/20170107-165718-Ride.gpx</td>\n",
       "      <td>26.653889</td>\n",
       "    </tr>\n",
       "  </tbody>\n",
       "</table>\n",
       "</div>"
      ],
      "text/plain": [
       "                                  Ride_ID      Component\n",
       "0   ./Activities/20140913-160521-Ride.gpx     180.250000\n",
       "1   ./Activities/20141115-095433-Ride.gpx  150504.841944\n",
       "2   ./Activities/20141116-095824-Ride.gpx       6.670000\n",
       "3   ./Activities/20141126-131457-Ride.gpx   10810.710556\n",
       "4   ./Activities/20141210-130913-Ride.gpx   33674.273611\n",
       "5   ./Activities/20141217-130856-Ride.gpx   16714.942500\n",
       "6   ./Activities/20150114-123739-Ride.gpx   30227.300000\n",
       "7   ./Activities/20150121-131846-Ride.gpx    4079.220000\n",
       "8   ./Activities/20150128-131436-Ride.gpx   16731.179167\n",
       "9   ./Activities/20150215-084902-Ride.gpx   19503.260556\n",
       "10  ./Activities/20151204-155513-Ride.gpx  168297.551111\n",
       "11  ./Activities/20151205-093415-Ride.gpx     563.516389\n",
       "12  ./Activities/20151206-083438-Ride.gpx     583.999167\n",
       "13  ./Activities/20160606-175316-Ride.gpx      57.382500\n",
       "14  ./Activities/20160703-093649-Ride.gpx     435.994722\n",
       "15  ./Activities/20160729-160751-Ride.gpx      53.662778\n",
       "16  ./Activities/20160731-125600-Ride.gpx     172.779444\n",
       "17  ./Activities/20160804-165430-Ride.gpx     165.247778\n",
       "18  ./Activities/20160807-101721-Ride.gpx     289.665556\n",
       "19  ./Activities/20160816-161753-Ride.gpx      61.347778\n",
       "20  ./Activities/20160816-182610-Ride.gpx      55.352500\n",
       "21  ./Activities/20160816-190402-Ride.gpx      19.088889\n",
       "22  ./Activities/20160818-161815-Ride.gpx     195.235556\n",
       "23  ./Activities/20160821-162853-Ride.gpx      70.318889\n",
       "24  ./Activities/20160823-161247-Ride.gpx     598.876111\n",
       "25  ./Activities/20160823-181757-Ride.gpx      58.489722\n",
       "26  ./Activities/20160823-190429-Ride.gpx      26.298056\n",
       "27  ./Activities/20160827-083846-Ride.gpx     235.408056\n",
       "28  ./Activities/20160828-120249-Ride.gpx     106.870000\n",
       "29  ./Activities/20160829-082902-Ride.gpx     198.320833\n",
       "30  ./Activities/20160904-155253-Ride.gpx      50.541667\n",
       "31  ./Activities/20160906-171046-Ride.gpx     136.317500\n",
       "32  ./Activities/20160908-171825-Ride.gpx      76.051389\n",
       "33  ./Activities/20160908-183747-Ride.gpx      89.849167\n",
       "34  ./Activities/20160913-161732-Ride.gpx     753.655278\n",
       "35  ./Activities/20160915-065544-Ride.gpx      43.491111\n",
       "36  ./Activities/20160918-074932-Ride.gpx     183.351944\n",
       "37  ./Activities/20160922-173559-Ride.gpx    1340.538333\n",
       "38  ./Activities/20160925-131534-Ride.gpx     136.312500\n",
       "39  ./Activities/20160927-180401-Ride.gpx      19.170556\n",
       "40  ./Activities/20160928-162627-Ride.gpx     405.358611\n",
       "41  ./Activities/20161004-173136-Ride.gpx      81.989167\n",
       "42  ./Activities/20161008-114136-Ride.gpx      68.491944\n",
       "43  ./Activities/20161011-155739-Ride.gpx      98.530000\n",
       "44  ./Activities/20161018-162947-Ride.gpx     107.810278\n",
       "45  ./Activities/20161020-162902-Ride.gpx     760.133889\n",
       "46  ./Activities/20161027-163132-Ride.gpx     138.672778\n",
       "47  ./Activities/20161102-180035-Ride.gpx    1845.336389\n",
       "48  ./Activities/20161123-170002-Ride.gpx    6142.050000\n",
       "49  ./Activities/20161126-122207-Ride.gpx     216.352500\n",
       "50  ./Activities/20161206-175215-Ride.gpx    3018.114722\n",
       "51  ./Activities/20161211-093845-Ride.gpx    1579.246944\n",
       "52  ./Activities/20170103-130509-Ride.gpx     164.795833\n",
       "53  ./Activities/20170104-173626-Ride.gpx     333.645278\n",
       "54  ./Activities/20170107-101003-Ride.gpx    1583.841944\n",
       "55  ./Activities/20170107-121835-Ride.gpx      25.514444\n",
       "56  ./Activities/20170107-124626-Ride.gpx     111.920833\n",
       "57  ./Activities/20170107-152751-Ride.gpx      43.006389\n",
       "58  ./Activities/20170107-165718-Ride.gpx      26.653889"
      ]
     },
     "execution_count": 233,
     "metadata": {},
     "output_type": "execute_result"
    }
   ],
   "source": [
    "suffer_scores"
   ]
  },
  {
   "cell_type": "code",
   "execution_count": null,
   "metadata": {
    "collapsed": true
   },
   "outputs": [],
   "source": []
  },
  {
   "cell_type": "code",
   "execution_count": null,
   "metadata": {
    "collapsed": true
   },
   "outputs": [],
   "source": []
  },
  {
   "cell_type": "code",
   "execution_count": null,
   "metadata": {
    "collapsed": true
   },
   "outputs": [],
   "source": []
  },
  {
   "cell_type": "code",
   "execution_count": null,
   "metadata": {
    "collapsed": true
   },
   "outputs": [],
   "source": []
  },
  {
   "cell_type": "code",
   "execution_count": null,
   "metadata": {
    "collapsed": true
   },
   "outputs": [],
   "source": []
  },
  {
   "cell_type": "code",
   "execution_count": null,
   "metadata": {
    "collapsed": true
   },
   "outputs": [],
   "source": []
  },
  {
   "cell_type": "code",
   "execution_count": 88,
   "metadata": {
    "collapsed": false
   },
   "outputs": [
    {
     "data": {
      "text/plain": [
       "Ride_ID\n",
       "./Activities/20140913-160521-Ride.gpx    160\n",
       "./Activities/20141115-095433-Ride.gpx    199\n",
       "./Activities/20141116-095824-Ride.gpx    131\n",
       "./Activities/20141126-131457-Ride.gpx    189\n",
       "./Activities/20141210-130913-Ride.gpx    178\n",
       "Name: HR, dtype: int64"
      ]
     },
     "execution_count": 88,
     "metadata": {},
     "output_type": "execute_result"
    }
   ],
   "source": [
    "avg_HRs.head(5)"
   ]
  },
  {
   "cell_type": "code",
   "execution_count": 89,
   "metadata": {
    "collapsed": false
   },
   "outputs": [
    {
     "data": {
      "text/plain": [
       "<matplotlib.axes._subplots.AxesSubplot at 0x12bff64d0>"
      ]
     },
     "execution_count": 89,
     "metadata": {},
     "output_type": "execute_result"
    },
    {
     "data": {
      "image/png": "[encoded data removed]",
      "text/plain": [
       "<matplotlib.figure.Figure at 0x12bfd3c90>"
      ]
     },
     "metadata": {},
     "output_type": "display_data"
    }
   ],
   "source": [
    "sns.tsplot(avg_HRs)"
   ]
  },
  {
   "cell_type": "code",
   "execution_count": null,
   "metadata": {
    "collapsed": true
   },
   "outputs": [],
   "source": []
  },
  {
   "cell_type": "code",
   "execution_count": null,
   "metadata": {
    "collapsed": true
   },
   "outputs": [],
   "source": []
  },
  {
   "cell_type": "code",
   "execution_count": null,
   "metadata": {
    "collapsed": true
   },
   "outputs": [],
   "source": []
  }
 ],
 "metadata": {
  "anaconda-cloud": {},
  "kernelspec": {
   "display_name": "Python [conda root]",
   "language": "python",
   "name": "conda-root-py"
  },
  "language_info": {
   "codemirror_mode": {
    "name": "ipython",
    "version": 2
   },
   "file_extension": ".py",
   "mimetype": "text/x-python",
   "name": "python",
   "nbconvert_exporter": "python",
   "pygments_lexer": "ipython2",
   "version": "2.7.12"
  }
 },
 "nbformat": 4,
 "nbformat_minor": 1
}

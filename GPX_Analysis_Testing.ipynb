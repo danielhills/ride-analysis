{
 "cells": [
  {
   "cell_type": "code",
   "execution_count": 280,
   "metadata": {
    "collapsed": false
   },
   "outputs": [],
   "source": [
    "import re\n",
    "\n",
    "import pandas as pd\n",
    "\n",
    "import datetime\n",
    "\n",
    "from bs4 import BeautifulSoup\n",
    "\n",
    "import seaborn as sns\n",
    "sns.set(style=\"darkgrid\")\n",
    "%matplotlib inline"
   ]
  },
  {
   "cell_type": "code",
   "execution_count": 249,
   "metadata": {
    "collapsed": true
   },
   "outputs": [],
   "source": [
    "def extract_values (xml_values):\n",
    "    values = []\n",
    "    for val in xml_values:\n",
    "        values.append(int(re.findall('\\d+', str(val))[0]))\n",
    "    return values"
   ]
  },
  {
   "cell_type": "code",
   "execution_count": 250,
   "metadata": {
    "collapsed": true
   },
   "outputs": [],
   "source": [
    "def extract_date_times (xml_values):\n",
    "    date_times = []\n",
    "    for i in xml_values:\n",
    "        date_time = list(map(int, re.findall('\\d+', str(i))))\n",
    "        date_time = datetime.datetime(date_time[0],\n",
    "                                      date_time[1],\n",
    "                                      date_time[2],\n",
    "                                      date_time[3],\n",
    "                                      date_time[4],\n",
    "                                      date_time[5])\n",
    "        date_times.append(date_time)\n",
    "    return date_times"
   ]
  },
  {
   "cell_type": "code",
   "execution_count": 251,
   "metadata": {
    "collapsed": false
   },
   "outputs": [],
   "source": [
    "with open('./activities/20170107-152751-Ride.gpx', 'r') as file:\n",
    "    test_file = BeautifulSoup(file, 'lxml')"
   ]
  },
  {
   "cell_type": "code",
   "execution_count": 252,
   "metadata": {
    "collapsed": false
   },
   "outputs": [],
   "source": [
    "activity_points = test_file.find_all('trkpt')"
   ]
  },
  {
   "cell_type": "code",
   "execution_count": 253,
   "metadata": {
    "collapsed": true
   },
   "outputs": [],
   "source": [
    "latitudes, longitudes, elevations, times, heart_rates = [], [], [], [], []\n",
    "\n",
    "for pt in activity_points:\n",
    "    latitudes.append(pt['lat'])\n",
    "    longitudes.append(pt['lon'])\n",
    "    elevations.append(pt.ele)\n",
    "    times.append(pt.time)\n",
    "    heart_rates.append(pt.find_all('gpxtpx:hr')[0])"
   ]
  },
  {
   "cell_type": "code",
   "execution_count": 254,
   "metadata": {
    "collapsed": false
   },
   "outputs": [],
   "source": [
    "elevations = extract_values(elevations)\n",
    "heart_rates = extract_values(heart_rates)\n",
    "times = extract_date_times(times)"
   ]
  },
  {
   "cell_type": "code",
   "execution_count": 261,
   "metadata": {
    "collapsed": false
   },
   "outputs": [],
   "source": [
    "activity_dict = {'Latitude': latitudes,\n",
    "                 'Longitude': longitudes,\n",
    "                 'Elevation': elevations,\n",
    "                 'Time_Stamp': times,\n",
    "                 'HR': heart_rates}"
   ]
  },
  {
   "cell_type": "code",
   "execution_count": 262,
   "metadata": {
    "collapsed": true
   },
   "outputs": [],
   "source": [
    "activity_df = pd.DataFrame(activity_dict)"
   ]
  },
  {
   "cell_type": "code",
   "execution_count": 276,
   "metadata": {
    "collapsed": false
   },
   "outputs": [],
   "source": [
    "activity_df['HR_Zone'] = 'Recovery'\n",
    "activity_df.loc[activity_df['HR'] > 118, 'HR_Zone'] = 'Z1'\n",
    "activity_df.loc[activity_df['HR'] > 128, 'HR_Zone'] = 'Z2'\n",
    "activity_df.loc[activity_df['HR'] > 147, 'HR_Zone'] = 'Z3'\n",
    "activity_df.loc[activity_df['HR'] > 161, 'HR_Zone'] = 'Z4'\n",
    "activity_df.loc[activity_df['HR'] > 175, 'HR_Zone'] = 'Z5'\n",
    "activity_df.loc[activity_df['HR'] > 183, 'HR_Zone'] = 'Z6'"
   ]
  },
  {
   "cell_type": "code",
   "execution_count": 277,
   "metadata": {
    "collapsed": false
   },
   "outputs": [
    {
     "data": {
      "text/html": [
       "<div>\n",
       "<table border=\"1\" class=\"dataframe\">\n",
       "  <thead>\n",
       "    <tr style=\"text-align: right;\">\n",
       "      <th></th>\n",
       "      <th>Elevation</th>\n",
       "      <th>HR</th>\n",
       "      <th>Latitude</th>\n",
       "      <th>Longitude</th>\n",
       "      <th>Time_Stamp</th>\n",
       "      <th>HR_Zone</th>\n",
       "    </tr>\n",
       "  </thead>\n",
       "  <tbody>\n",
       "    <tr>\n",
       "      <th>0</th>\n",
       "      <td>0</td>\n",
       "      <td>108</td>\n",
       "      <td>51.6056740</td>\n",
       "      <td>0.1279010</td>\n",
       "      <td>2017-01-07 15:27:51</td>\n",
       "      <td>Recovery</td>\n",
       "    </tr>\n",
       "    <tr>\n",
       "      <th>1</th>\n",
       "      <td>0</td>\n",
       "      <td>108</td>\n",
       "      <td>51.6056720</td>\n",
       "      <td>0.1279000</td>\n",
       "      <td>2017-01-07 15:27:52</td>\n",
       "      <td>Recovery</td>\n",
       "    </tr>\n",
       "    <tr>\n",
       "      <th>2</th>\n",
       "      <td>0</td>\n",
       "      <td>107</td>\n",
       "      <td>51.6057050</td>\n",
       "      <td>0.1278460</td>\n",
       "      <td>2017-01-07 15:28:02</td>\n",
       "      <td>Recovery</td>\n",
       "    </tr>\n",
       "    <tr>\n",
       "      <th>3</th>\n",
       "      <td>0</td>\n",
       "      <td>105</td>\n",
       "      <td>51.6057300</td>\n",
       "      <td>0.1277430</td>\n",
       "      <td>2017-01-07 15:28:05</td>\n",
       "      <td>Recovery</td>\n",
       "    </tr>\n",
       "    <tr>\n",
       "      <th>4</th>\n",
       "      <td>0</td>\n",
       "      <td>104</td>\n",
       "      <td>51.6057440</td>\n",
       "      <td>0.1277210</td>\n",
       "      <td>2017-01-07 15:28:06</td>\n",
       "      <td>Recovery</td>\n",
       "    </tr>\n",
       "  </tbody>\n",
       "</table>\n",
       "</div>"
      ],
      "text/plain": [
       "   Elevation   HR    Latitude  Longitude          Time_Stamp   HR_Zone\n",
       "0          0  108  51.6056740  0.1279010 2017-01-07 15:27:51  Recovery\n",
       "1          0  108  51.6056720  0.1279000 2017-01-07 15:27:52  Recovery\n",
       "2          0  107  51.6057050  0.1278460 2017-01-07 15:28:02  Recovery\n",
       "3          0  105  51.6057300  0.1277430 2017-01-07 15:28:05  Recovery\n",
       "4          0  104  51.6057440  0.1277210 2017-01-07 15:28:06  Recovery"
      ]
     },
     "execution_count": 277,
     "metadata": {},
     "output_type": "execute_result"
    }
   ],
   "source": [
    "activity_df.head()"
   ]
  },
  {
   "cell_type": "code",
   "execution_count": 281,
   "metadata": {
    "collapsed": false
   },
   "outputs": [
    {
     "data": {
      "text/plain": [
       "<matplotlib.axes._subplots.AxesSubplot at 0x11bd05110>"
      ]
     },
     "execution_count": 281,
     "metadata": {},
     "output_type": "execute_result"
    },
    {
     "data": {
      "image/png": "[encoded data removed]",
      "text/plain": [
       "<matplotlib.figure.Figure at 0x11bc21d90>"
      ]
     },
     "metadata": {},
     "output_type": "display_data"
    }
   ],
   "source": [
    "sns.countplot(activity_df['HR_Zone'])"
   ]
  },
  {
   "cell_type": "code",
   "execution_count": null,
   "metadata": {
    "collapsed": true
   },
   "outputs": [],
   "source": []
  }
 ],
 "metadata": {
  "anaconda-cloud": {},
  "kernelspec": {
   "display_name": "Python [default]",
   "language": "python",
   "name": "python2"
  },
  "language_info": {
   "codemirror_mode": {
    "name": "ipython",
    "version": 2
   },
   "file_extension": ".py",
   "mimetype": "text/x-python",
   "name": "python",
   "nbconvert_exporter": "python",
   "pygments_lexer": "ipython2",
   "version": "2.7.12"
  }
 },
 "nbformat": 4,
 "nbformat_minor": 1
}
